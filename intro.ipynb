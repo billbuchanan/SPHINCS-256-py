{
  "nbformat": 4,
  "nbformat_minor": 0,
  "metadata": {
    "colab": {
      "name": "Untitled0.ipynb",
      "provenance": [],
      "include_colab_link": true
    },
    "kernelspec": {
      "name": "python3",
      "display_name": "Python 3"
    }
  },
  "cells": [
    {
      "cell_type": "markdown",
      "metadata": {
        "id": "view-in-github",
        "colab_type": "text"
      },
      "source": [
        "<a href=\"https://colab.research.google.com/github/billbuchanan/SPHINCS-256-py/blob/master/intro.ipynb\" target=\"_parent\"><img src=\"https://colab.research.google.com/assets/colab-badge.svg\" alt=\"Open In Colab\"/></a>"
      ]
    },
    {
      "cell_type": "markdown",
      "metadata": {
        "id": "FlVZc7T2VKBB",
        "colab_type": "text"
      },
      "source": [
        " With hexadecimal we take four bits at a time and convert them into a hexadecimal value, and normally we show that we are using hexadecimal with leader characters. The table we use is:\n",
        " <pre>\n",
        "\n",
        "Val\tHex\t\tVal\tHex\n",
        "0000\t0\t\t1000\t8\n",
        "0001\t1\t\t1001\t9\n",
        "0010\t2\t\t1010\tA\n",
        "0011\t3\t\t1011\tB\n",
        "0100\t4\t\t1100\tC\n",
        "0101\t5\t\t1101\tD\n",
        "0110\t6\t\t1110\tE\n",
        "0111\t7\t\t1111\tF\n",
        "</pre>\n",
        "\n",
        "An example is 42 which is “0010 1011”, and where we can represent this with 0x2B. With octal we take three bits at a time, and represent them with a value from 0 to 7."
      ]
    },
    {
      "cell_type": "markdown",
      "metadata": {
        "id": "1Gr_QNT_VIcC",
        "colab_type": "text"
      },
      "source": [
        ""
      ]
    },
    {
      "cell_type": "code",
      "metadata": {
        "id": "nj5qalrVVa-I",
        "colab_type": "code",
        "outputId": "ede2a934-c838-40a0-854b-4631a99b8c31",
        "colab": {
          "base_uri": "https://localhost:8080/",
          "height": 104
        }
      },
      "source": [
        "import sys\n",
        "\n",
        "val1=43\n",
        "\n",
        "print (\"Dec:\\t\",val1)\n",
        "print (\"Bin:\\t\",bin(val1))\n",
        "print (\"Hex:\\t\",hex(val1))\n",
        "print (\"Oct:\\t\",oct(val1))\n",
        "print (\"Char:\\t\",chr(val1))"
      ],
      "execution_count": 5,
      "outputs": [
        {
          "output_type": "stream",
          "text": [
            "Dec:\t 43\n",
            "Bin:\t 0b101011\n",
            "Hex:\t 0x2b\n",
            "Oct:\t 0o53\n",
            "Char:\t +\n"
          ],
          "name": "stdout"
        }
      ]
    }
  ]
}